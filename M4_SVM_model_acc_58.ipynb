{
  "nbformat": 4,
  "nbformat_minor": 0,
  "metadata": {
    "colab": {
      "name": "M4_SVM_model_acc_58.ipynb",
      "provenance": [],
      "collapsed_sections": []
    },
    "kernelspec": {
      "name": "python3",
      "display_name": "Python 3"
    }
  },
  "cells": [
    {
      "cell_type": "markdown",
      "metadata": {
        "id": "AFycu5aIi93O"
      },
      "source": [
        "#MILESTONE 4#\n",
        "Ali Wehbi - Dina Younes - Reeda Al Saintbai - Shaza Fakih - Youssef Jaafar"
      ]
    },
    {
      "cell_type": "code",
      "metadata": {
        "id": "TRKGwPQrdEIl",
        "colab": {
          "base_uri": "https://localhost:8080/"
        },
        "outputId": "c7907b81-ded3-489a-b2d3-d6aefb17a84e"
      },
      "source": [
        "\n",
        "from google.colab import drive\n",
        "drive.mount(\"/content/drive\")"
      ],
      "execution_count": null,
      "outputs": [
        {
          "output_type": "stream",
          "text": [
            "Drive already mounted at /content/drive; to attempt to forcibly remount, call drive.mount(\"/content/drive\", force_remount=True).\n"
          ],
          "name": "stdout"
        }
      ]
    },
    {
      "cell_type": "code",
      "metadata": {
        "id": "dB1dN7Hzfy0r",
        "colab": {
          "base_uri": "https://localhost:8080/"
        },
        "outputId": "51a8de96-f899-4bc5-baab-a91e5ee19b55"
      },
      "source": [
        "import pandas as pd\n",
        "#df = pd.read_csv(\"/content/drive/iseardataset.csv\")       #importing the ISEAR dataset into a dataframe\n",
        "df = pd.read_csv(\"/content/iseardataset.csv\")   \n",
        "print(df.head())\n"
      ],
      "execution_count": null,
      "outputs": [
        {
          "output_type": "stream",
          "text": [
            "     label                                               text Unnamed: 2\n",
            "0      joy  On days when I feel close to my partner and ot...        NaN\n",
            "1     fear  Every time I imagine that someone I love or I ...        NaN\n",
            "2    anger  When I had been obviously unjustly treated and...        NaN\n",
            "3  sadness  When I think about the short time that we live...        NaN\n",
            "4  disgust  At a gathering I found myself involuntarily si...        NaN\n"
          ],
          "name": "stdout"
        }
      ]
    },
    {
      "cell_type": "code",
      "metadata": {
        "id": "MGZGidWhgKDz",
        "colab": {
          "base_uri": "https://localhost:8080/"
        },
        "outputId": "fdf8830b-a314-45c6-9d43-28b1e6630690"
      },
      "source": [
        "#Removing last column\n",
        "df = df[['label','text']] \n",
        "print(df.head())"
      ],
      "execution_count": null,
      "outputs": [
        {
          "output_type": "stream",
          "text": [
            "     label                                               text\n",
            "0      joy  On days when I feel close to my partner and ot...\n",
            "1     fear  Every time I imagine that someone I love or I ...\n",
            "2    anger  When I had been obviously unjustly treated and...\n",
            "3  sadness  When I think about the short time that we live...\n",
            "4  disgust  At a gathering I found myself involuntarily si...\n"
          ],
          "name": "stdout"
        }
      ]
    },
    {
      "cell_type": "code",
      "metadata": {
        "id": "YNL2hvM7otzG",
        "colab": {
          "base_uri": "https://localhost:8080/"
        },
        "outputId": "4151cc89-ccff-4c66-f989-ed9052a4570d"
      },
      "source": [
        "df.info()"
      ],
      "execution_count": null,
      "outputs": [
        {
          "output_type": "stream",
          "text": [
            "<class 'pandas.core.frame.DataFrame'>\n",
            "RangeIndex: 7516 entries, 0 to 7515\n",
            "Data columns (total 2 columns):\n",
            " #   Column  Non-Null Count  Dtype \n",
            "---  ------  --------------  ----- \n",
            " 0   label   7516 non-null   object\n",
            " 1   text    7516 non-null   object\n",
            "dtypes: object(2)\n",
            "memory usage: 117.6+ KB\n"
          ],
          "name": "stdout"
        }
      ]
    },
    {
      "cell_type": "markdown",
      "metadata": {
        "id": "v3clr9zjlIKy"
      },
      "source": [
        "\n",
        "\n",
        "\n",
        "#Preprocessing of data#"
      ]
    },
    {
      "cell_type": "code",
      "metadata": {
        "id": "qphYCgxB2xAg",
        "colab": {
          "base_uri": "https://localhost:8080/"
        },
        "outputId": "f27be33c-7265-4c45-efd5-752d8630b455"
      },
      "source": [
        "#importing necessary libraries for preprocessing\n",
        "import numpy as np\n",
        "import itertools\n",
        "import re\n",
        "import nltk\n",
        "from nltk.tokenize import word_tokenize\n",
        "from nltk.corpus import stopwords\n",
        "from nltk.stem.porter import PorterStemmer\n",
        "nltk.download('wordnet')\n",
        "nltk.download('punkt')\n",
        "nltk.download('stopwords')\n",
        "\n",
        "stop_words = stopwords.words('english')    # stop words do not contribute in giving a meaning to a sentence, hence they can be ignored\n",
        "\n",
        "def DataPreprocess(input_text):\n",
        "  \"\"\"\n",
        "  Function that takes text input as string, converts text into lowercase, removes non alphabetic words, tokenizes the text, \n",
        "  reduces each word to its root\n",
        "  \"\"\"\n",
        "  input_text = input_text.lower()                   #converting to lower case\n",
        "  input_text = re.sub(r'[^a-z]', ' ', input_text)   #keeping alphabetic words only\n",
        "  text_tokens = word_tokenize(input_text)           #creating tokens of the text\n",
        "\n",
        "  #print(\"Tokens:\", text_tokens)\n",
        "  #print('\\n')\n",
        "\n",
        "  porter_stemmer = PorterStemmer()                                     #initializing a stemmer\n",
        "  porter_stemmed = [porter_stemmer.stem(word) for word in text_tokens] #stemming words, i.e. reducing a word to its root. \n",
        "  input_text = ' '.join(porter_stemmed)                                #after preprocessing, create full text back\n",
        "  #print(\"After preprocessing, before stopwords:\")\n",
        "  #print(input_text)\n",
        "  #print('\\n')\n",
        "  # remove stopwords\n",
        "  input_text = ' '.join([word for word in input_text.split() if word not in stop_words])\n",
        "  #print(\"After stopwords:\")\n",
        "  #print('\\n')\n",
        "  return input_text"
      ],
      "execution_count": null,
      "outputs": [
        {
          "output_type": "stream",
          "text": [
            "[nltk_data] Downloading package wordnet to /root/nltk_data...\n",
            "[nltk_data]   Package wordnet is already up-to-date!\n",
            "[nltk_data] Downloading package punkt to /root/nltk_data...\n",
            "[nltk_data]   Package punkt is already up-to-date!\n",
            "[nltk_data] Downloading package stopwords to /root/nltk_data...\n",
            "[nltk_data]   Package stopwords is already up-to-date!\n"
          ],
          "name": "stdout"
        }
      ]
    },
    {
      "cell_type": "code",
      "metadata": {
        "id": "7foahL049y1K",
        "colab": {
          "base_uri": "https://localhost:8080/"
        },
        "outputId": "11468797-30c9-4474-8bc3-e24b434bd2dc"
      },
      "source": [
        "df['text'] = df['text'].apply(DataPreprocess)    #Preprocessing the input data\n",
        "df.head() \n",
        "print(df.head())"
      ],
      "execution_count": null,
      "outputs": [
        {
          "output_type": "stream",
          "text": [
            "     label                                               text\n",
            "0      joy  day feel close partner friend feel peac also e...\n",
            "1     fear  everi time imagin someon love could contact se...\n",
            "2    anger          obvious unjustli treat possibl elucid thi\n",
            "3  sadness  think short time live relat period life think ...\n",
            "4  disgust  gather found involuntarili sit next two peopl ...\n"
          ],
          "name": "stdout"
        }
      ]
    },
    {
      "cell_type": "markdown",
      "metadata": {
        "id": "5bcSjR8U-0J5"
      },
      "source": [
        "#Feature Engineering & Model Building# "
      ]
    },
    {
      "cell_type": "markdown",
      "metadata": {
        "id": "WGgTfLzKp9cl"
      },
      "source": [
        "First:\n",
        "Using CountVectorizer"
      ]
    },
    {
      "cell_type": "code",
      "metadata": {
        "id": "B_slbaxephJg"
      },
      "source": [
        "from sklearn.feature_extraction.text import CountVectorizer\n",
        "from sklearn.feature_extraction.text import TfidfVectorizer\n",
        "from sklearn.model_selection import train_test_split\n",
        "from sklearn import svm\n",
        "from sklearn.metrics import classification_report\n",
        "X = df.text.to_numpy()        #converting the pandas series to a numpy array\n",
        "#X = X.reshape(-1,1)\n",
        "y = df.label.values           #returning a numpy representation of the dataframe data.label\n",
        "#y = y.reshape(-1,1)\n",
        "#print(X)\n",
        "#print(y)\n",
        "#print(X.shape)\n",
        "#print(y.shape)\n",
        "\n",
        "#Trying Bag of Words\n",
        "CVect = CountVectorizer(max_features=2000)\n",
        "X_CVect = CVect.fit_transform(X).toarray()\n",
        "#Splitting the data into a training set and a testing set with 80-20% proportions and a random state = 52\n",
        "X_train, X_test, y_train, y_test = train_test_split(X_CVect, y, test_size=0.20, random_state=52)\n",
        "\n"
      ],
      "execution_count": null,
      "outputs": []
    },
    {
      "cell_type": "code",
      "metadata": {
        "colab": {
          "base_uri": "https://localhost:8080/"
        },
        "id": "ewneWpC5qNtX",
        "outputId": "cb9cf02d-c491-4564-fd3e-cb63d8f5c743"
      },
      "source": [
        "#SVM model + CountVectorizer\n",
        "model1 = svm.SVC(kernel='linear')                              #initializing an SVM model\n",
        "model1.fit(X_train, y_train)                               #training the model on the training set\n",
        "emotion_predicted = model1.predict(X_test)                 #measuring the quality of the model's prediction on the test set\n",
        "print(classification_report(y_test, emotion_predicted))      #displaying the precision, recall, F1, and support scores for the model.\n",
        "                                              "
      ],
      "execution_count": null,
      "outputs": [
        {
          "output_type": "stream",
          "text": [
            "              precision    recall  f1-score   support\n",
            "\n",
            "       anger       0.35      0.50      0.41       193\n",
            "     disgust       0.53      0.48      0.50       215\n",
            "        fear       0.64      0.67      0.65       208\n",
            "       guilt       0.45      0.39      0.42       214\n",
            "         joy       0.67      0.67      0.67       205\n",
            "     sadness       0.60      0.57      0.59       228\n",
            "       shame       0.50      0.44      0.47       241\n",
            "\n",
            "    accuracy                           0.53      1504\n",
            "   macro avg       0.54      0.53      0.53      1504\n",
            "weighted avg       0.54      0.53      0.53      1504\n",
            "\n"
          ],
          "name": "stdout"
        }
      ]
    },
    {
      "cell_type": "markdown",
      "metadata": {
        "id": "KDwI2HSfsIYq"
      },
      "source": [
        "Second: Using TF-IDF"
      ]
    },
    {
      "cell_type": "code",
      "metadata": {
        "id": "4kC4HJl7pk2j"
      },
      "source": [
        "#Splitting the data into a training set and a testing set with 80-20% proportions and a random state = 52\n",
        "X_train2, X_test2, y_train2, y_test2 = train_test_split(X, y, test_size=0.20, random_state=62)\n",
        "T_vectorizer = TfidfVectorizer(min_df=2, max_df=0.9)    #instantiating the vectorizer object\n",
        "vect_train = T_vectorizer.fit_transform(X_train2)        #transforming train and test data into a matrix of TF-IDF features\n",
        "vect_test = T_vectorizer.transform(X_test2)            #in order to transform text into a significant representation of numbers\n",
        "#print(vect_train)\n",
        "#print(vect_test)\n",
        "\n"
      ],
      "execution_count": null,
      "outputs": []
    },
    {
      "cell_type": "code",
      "metadata": {
        "id": "cu2xq-BH1Vbm",
        "colab": {
          "base_uri": "https://localhost:8080/"
        },
        "outputId": "c2eb77d8-1c1a-4755-f9c3-95891f2e7a4c"
      },
      "source": [
        "#SVM + TF-IDF\n",
        "model2 = svm.SVC(kernel='linear')                              #initializing an SVM model\n",
        "model2.fit(vect_train, y_train2)                               #training the model on the training set\n",
        "emotion_predicted2 = model2.predict(vect_test)                 #measuring the quality of the model's prediction on the test set\n",
        "print(classification_report(y_test2, emotion_predicted2))      #displaying the precision, recall, F1, and support scores for the model.\n",
        "                                              "
      ],
      "execution_count": null,
      "outputs": [
        {
          "output_type": "stream",
          "text": [
            "              precision    recall  f1-score   support\n",
            "\n",
            "       anger       0.46      0.58      0.51       222\n",
            "     disgust       0.58      0.62      0.60       205\n",
            "        fear       0.73      0.64      0.68       211\n",
            "       guilt       0.48      0.44      0.46       216\n",
            "         joy       0.70      0.74      0.72       213\n",
            "     sadness       0.69      0.60      0.64       222\n",
            "       shame       0.49      0.47      0.48       215\n",
            "\n",
            "    accuracy                           0.58      1504\n",
            "   macro avg       0.59      0.58      0.58      1504\n",
            "weighted avg       0.59      0.58      0.58      1504\n",
            "\n"
          ],
          "name": "stdout"
        }
      ]
    },
    {
      "cell_type": "code",
      "metadata": {
        "id": "rgRVYIyb36Cb",
        "colab": {
          "base_uri": "https://localhost:8080/"
        },
        "outputId": "29a6f70b-acf3-40bd-f1bc-850882912d85"
      },
      "source": [
        "from sklearn.metrics import accuracy_score, confusion_matrix\n",
        "\n",
        "c_matrix = confusion_matrix(emotion_predicted2, y_test2)          #using a confusion matrix to evaluate the model\n",
        "print(c_matrix)                                                 #this is useful in model management and monitoring and used to evaluate the perfomance of our classification model  \n",
        "print(\"Accuracy: \",accuracy_score(y_test2, emotion_predicted2))   #printing the accuracy of the model after predicting on the test set\n"
      ],
      "execution_count": null,
      "outputs": [
        {
          "output_type": "stream",
          "text": [
            "[[128  21  18  41  12  20  36]\n",
            " [ 23 127  20  10   6  13  19]\n",
            " [  7   9 136   7   6  10  12]\n",
            " [ 28  11   9  96  10  14  32]\n",
            " [  7  10  11   9 157  20  10]\n",
            " [  9   5  10  20  10 133   6]\n",
            " [ 20  22   7  33  12  12 100]]\n",
            "Accuracy:  0.5831117021276596\n"
          ],
          "name": "stdout"
        }
      ]
    },
    {
      "cell_type": "code",
      "metadata": {
        "id": "TS3PmraL7_4g"
      },
      "source": [
        "def predict(model, T_vectorizer, text):\n",
        "  \"\"\"\n",
        "  function that takes as input a model (in our case svm), a vectorizer (tfid vectorizer in our case), and input text as string\n",
        "  returns the detected emotion in the text\n",
        "  \"\"\"\n",
        "  text = DataPreprocess(text)                      #preprocessing the input text: converting to lower case, removing non-alphabetic words, tokenizing the text, and stemming words\n",
        "  text_vectorized = T_vectorizer.transform([text]) #using the tfidf vectorizer on the input text\n",
        "  return model.predict(text_vectorized)[0]         #running the model on the vectorizer\n",
        "\n",
        "\n"
      ],
      "execution_count": null,
      "outputs": []
    },
    {
      "cell_type": "code",
      "metadata": {
        "id": "dMaDmyJMJ7-1",
        "colab": {
          "base_uri": "https://localhost:8080/"
        },
        "outputId": "e92f8b2e-6d3b-44f0-af10-b6341ec11818"
      },
      "source": [
        "text1 = \"Today i went to the mall with my friends to celebrate my friend's birthday, it was great!\"\n",
        "print(\"Emotion predicted: \",predict(model2,T_vectorizer,text1))"
      ],
      "execution_count": null,
      "outputs": [
        {
          "output_type": "stream",
          "text": [
            "Emotion predicted:  joy\n"
          ],
          "name": "stdout"
        }
      ]
    },
    {
      "cell_type": "code",
      "metadata": {
        "id": "lD0E3RZ6H76Q",
        "colab": {
          "base_uri": "https://localhost:8080/"
        },
        "outputId": "9c7d466e-4196-4dae-8dde-c8fed20374e2"
      },
      "source": [
        "text3 = \"I have a presentation tomorrow, im feeling nervous. I want it to go well, but i might fail.\"\n",
        "print(\"Emotion predicted: \",predict(model2,T_vectorizer,text3))"
      ],
      "execution_count": null,
      "outputs": [
        {
          "output_type": "stream",
          "text": [
            "Emotion predicted:  shame\n"
          ],
          "name": "stdout"
        }
      ]
    }
  ]
}